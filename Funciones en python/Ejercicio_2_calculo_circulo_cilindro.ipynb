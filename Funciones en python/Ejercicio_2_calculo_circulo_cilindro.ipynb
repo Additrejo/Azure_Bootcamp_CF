{
  "nbformat": 4,
  "nbformat_minor": 0,
  "metadata": {
    "colab": {
      "provenance": [],
      "authorship_tag": "ABX9TyNPhAdVg713kk8eXYBI/bAj",
      "include_colab_link": true
    },
    "kernelspec": {
      "name": "python3",
      "display_name": "Python 3"
    },
    "language_info": {
      "name": "python"
    }
  },
  "cells": [
    {
      "cell_type": "markdown",
      "metadata": {
        "id": "view-in-github",
        "colab_type": "text"
      },
      "source": [
        "<a href=\"https://colab.research.google.com/github/Additrejo/Azure_Bootcamp_CF/blob/main/Funciones%20en%20python/Ejercicio_2_calculo_circulo_cilindro.ipynb\" target=\"_parent\"><img src=\"https://colab.research.google.com/assets/colab-badge.svg\" alt=\"Open In Colab\"/></a>"
      ]
    },
    {
      "cell_type": "markdown",
      "source": [
        "**Ejercicio 2:** Escrbir una función que calcule el área de un circulo y otra que calcule el volumen de un cilindro usando la primera función."
      ],
      "metadata": {
        "id": "rVLLDtohkmVq"
      }
    },
    {
      "cell_type": "code",
      "execution_count": null,
      "metadata": {
        "id": "Mi0-EN6NkRFR"
      },
      "outputs": [],
      "source": [
        "import math         #Importar biblioteca\n",
        "\n",
        "def area_circulo(radio):           #Función para calcular el área e un círculo\n",
        " return math.pi * radio**2        #Devolver el valor de la operación para obtener el radio"
      ]
    },
    {
      "cell_type": "code",
      "source": [
        "def volumen_cilindro(radio, altura):                    #Definir función para el volumen del cilindro.\n",
        "  area_base = area_circulo(radio)                      #Llamamos a la función que calcule el área del circulo.\n",
        "  return area_base * altura                                 #Devolver el valor de la operación para obtener el volumen"
      ],
      "metadata": {
        "id": "TKEqa71VrLMI"
      },
      "execution_count": null,
      "outputs": []
    },
    {
      "cell_type": "code",
      "source": [
        "#definir los valores de entrada.\n",
        "radio = 5.0\n",
        "altura = 10.0\n",
        "\n",
        "area = area_circulo(radio)                                     # llamamos a las operación y las guardamos en las variables.\n",
        "volumen  =  volumen_cilindro(radio, altura)\n",
        "\n",
        "area, volumen\n",
        "#Imprimimos los resultados.\n",
        "print(\"El area del circulo es: \" , area)\n",
        "print(\"El volumen del cilindro es: \" ,volumen)\n"
      ],
      "metadata": {
        "colab": {
          "base_uri": "https://localhost:8080/"
        },
        "id": "buadCqVMKAbj",
        "outputId": "3105a591-14b5-40f1-ea7e-462a7b7556b9"
      },
      "execution_count": 16,
      "outputs": [
        {
          "output_type": "stream",
          "name": "stdout",
          "text": [
            "El area del circulo es:  78.53981633974483\n",
            "El volumen del cilindro es:  785.3981633974483\n"
          ]
        }
      ]
    }
  ]
}