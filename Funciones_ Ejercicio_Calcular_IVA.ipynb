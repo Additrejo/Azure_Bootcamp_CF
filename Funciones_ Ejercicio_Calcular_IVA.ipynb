{
  "nbformat": 4,
  "nbformat_minor": 0,
  "metadata": {
    "colab": {
      "provenance": [],
      "authorship_tag": "ABX9TyM+mruMlXX/2m/mfySJEVvX",
      "include_colab_link": true
    },
    "kernelspec": {
      "name": "python3",
      "display_name": "Python 3"
    },
    "language_info": {
      "name": "python"
    }
  },
  "cells": [
    {
      "cell_type": "markdown",
      "metadata": {
        "id": "view-in-github",
        "colab_type": "text"
      },
      "source": [
        "<a href=\"https://colab.research.google.com/github/Additrejo/Azure_Bootcamp_CF/blob/main/Funciones_%20Ejercicio_Calcular_IVA.ipynb\" target=\"_parent\"><img src=\"https://colab.research.google.com/assets/colab-badge.svg\" alt=\"Open In Colab\"/></a>"
      ]
    },
    {
      "cell_type": "markdown",
      "source": [
        "***Ejercicio 1:*** Escribir una función que calcule el total de una factura tras aplicarle el IVA. La función debe recibir la cantidad sin IVA y el porcentaje de IVA a aplicar, y devolver el total de la factura. Si se invoca la función sin pasarle el porcentaje de IVA, deberá aplicar un 21%."
      ],
      "metadata": {
        "id": "BlHRk8JYLSkb"
      }
    },
    {
      "cell_type": "code",
      "execution_count": 9,
      "metadata": {
        "id": "vPy0OMyprgWr"
      },
      "outputs": [],
      "source": [
        "def calcular_total_factura(cantidad_sin_iva, porcentaje_iva=21):             #Definimos la función calcular total de la factura\n",
        "  total= cantidad_sin_iva + (cantidad_sin_iva * porcentaje_iva / 100)       #Total = cantidad sin IVA + (Cantidad sin IVA* el porcentaje del IVA / entre 100)\n",
        "  return total                                                                                               #Regresa el valor del total"
      ]
    },
    {
      "cell_type": "code",
      "source": [
        "cantidad_sin_iva = 100                                                                            #Variable de la cantidad sin IVA = valor\n",
        "total_factura = calcular_total_factura(cantidad_sin_iva)                          #total de la factura = función calcular total de la factura (variable de la cantidad sin IVA)\n",
        "print(f\"Total de la factura con 21% de IVA: {total_factura}\")                     #Imprimir la factura con IVA incluido"
      ],
      "metadata": {
        "colab": {
          "base_uri": "https://localhost:8080/"
        },
        "id": "2R596fRs2oyk",
        "outputId": "c018738b-bd3d-4a1d-acd7-03579587f4ec"
      },
      "execution_count": 11,
      "outputs": [
        {
          "output_type": "stream",
          "name": "stdout",
          "text": [
            "Total de la factura con 21% de IVA: 121.0\n"
          ]
        }
      ]
    },
    {
      "cell_type": "code",
      "source": [
        "porcentaje_iva_personalizado = 25                                                                                                                                      #Función con porcentaje personalizado\n",
        "total_factura_personalizado = calcular_total_factura(cantidad_sin_iva, porcentaje_iva_personalizado)                             #Cálculo del total de la factura personalizada\n",
        "print(f\"Total de la factura con {porcentaje_iva_personalizado}% de IVA personalizado: {total_factura_personalizado}\")     #imprimir la factura personalizada"
      ],
      "metadata": {
        "colab": {
          "base_uri": "https://localhost:8080/"
        },
        "id": "iS8e_LIhMvjS",
        "outputId": "0da31672-f449-4834-a8a3-8b7c4eb3608f"
      },
      "execution_count": 15,
      "outputs": [
        {
          "output_type": "stream",
          "name": "stdout",
          "text": [
            "Total de la factura con 25% de IVA personalizado: 125.0\n"
          ]
        }
      ]
    }
  ]
}